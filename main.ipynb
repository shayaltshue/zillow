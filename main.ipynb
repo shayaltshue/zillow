{
 "cells": [
  {
   "cell_type": "code",
   "execution_count": 1,
   "metadata": {},
   "outputs": [],
   "source": [
    "from acquire import acquire_data\n",
    "from wrangle import wrangle_data\n",
    "\n",
    "import numpy as np\n",
    "import pandas as pd\n",
    "\n",
    "from matplotlib import pyplot as plt\n",
    "import seaborn as sns\n",
    "\n",
    "from sklearn.preprocessing import MinMaxScaler\n",
    "from sklearn.linear_model import LinearRegression\n",
    "from sklearn.metrics import mean_squared_error as mse\n",
    "from scipy.stats import linregress\n",
    "\n",
    "from math import sqrt"
   ]
  },
  {
   "cell_type": "markdown",
   "metadata": {},
   "source": [
    "# Aqcuisition"
   ]
  },
  {
   "cell_type": "code",
   "execution_count": 2,
   "metadata": {},
   "outputs": [
    {
     "name": "stdout",
     "output_type": "stream",
     "text": [
      "csv has been previously generated.\n",
      "Data Acquired\n"
     ]
    }
   ],
   "source": [
    "df = acquire_data()"
   ]
  },
  {
   "cell_type": "code",
   "execution_count": 3,
   "metadata": {},
   "outputs": [
    {
     "data": {
      "text/html": [
       "<div>\n",
       "<style scoped>\n",
       "    .dataframe tbody tr th:only-of-type {\n",
       "        vertical-align: middle;\n",
       "    }\n",
       "\n",
       "    .dataframe tbody tr th {\n",
       "        vertical-align: top;\n",
       "    }\n",
       "\n",
       "    .dataframe thead th {\n",
       "        text-align: right;\n",
       "    }\n",
       "</style>\n",
       "<table border=\"1\" class=\"dataframe\">\n",
       "  <thead>\n",
       "    <tr style=\"text-align: right;\">\n",
       "      <th></th>\n",
       "      <th>Unnamed: 0</th>\n",
       "      <th>bedroomcnt</th>\n",
       "      <th>bathroomcnt</th>\n",
       "      <th>calculatedfinishedsquarefeet</th>\n",
       "      <th>taxvaluedollarcnt</th>\n",
       "      <th>taxamount</th>\n",
       "      <th>fips</th>\n",
       "      <th>FIPS</th>\n",
       "      <th>Name</th>\n",
       "      <th>State</th>\n",
       "    </tr>\n",
       "  </thead>\n",
       "  <tbody>\n",
       "    <tr>\n",
       "      <th>0</th>\n",
       "      <td>0</td>\n",
       "      <td>3.0</td>\n",
       "      <td>2.0</td>\n",
       "      <td>1458.0</td>\n",
       "      <td>136104.0</td>\n",
       "      <td>2319.90</td>\n",
       "      <td>6037.0</td>\n",
       "      <td>6037</td>\n",
       "      <td>Los Angeles</td>\n",
       "      <td>CA</td>\n",
       "    </tr>\n",
       "    <tr>\n",
       "      <th>1</th>\n",
       "      <td>1</td>\n",
       "      <td>2.0</td>\n",
       "      <td>1.0</td>\n",
       "      <td>1421.0</td>\n",
       "      <td>35606.0</td>\n",
       "      <td>543.69</td>\n",
       "      <td>6037.0</td>\n",
       "      <td>6037</td>\n",
       "      <td>Los Angeles</td>\n",
       "      <td>CA</td>\n",
       "    </tr>\n",
       "    <tr>\n",
       "      <th>2</th>\n",
       "      <td>2</td>\n",
       "      <td>3.0</td>\n",
       "      <td>2.0</td>\n",
       "      <td>1650.0</td>\n",
       "      <td>614000.0</td>\n",
       "      <td>7673.19</td>\n",
       "      <td>6037.0</td>\n",
       "      <td>6037</td>\n",
       "      <td>Los Angeles</td>\n",
       "      <td>CA</td>\n",
       "    </tr>\n",
       "    <tr>\n",
       "      <th>3</th>\n",
       "      <td>3</td>\n",
       "      <td>2.0</td>\n",
       "      <td>1.0</td>\n",
       "      <td>693.0</td>\n",
       "      <td>274237.0</td>\n",
       "      <td>3267.47</td>\n",
       "      <td>6037.0</td>\n",
       "      <td>6037</td>\n",
       "      <td>Los Angeles</td>\n",
       "      <td>CA</td>\n",
       "    </tr>\n",
       "    <tr>\n",
       "      <th>4</th>\n",
       "      <td>4</td>\n",
       "      <td>0.0</td>\n",
       "      <td>0.0</td>\n",
       "      <td>1378.0</td>\n",
       "      <td>168828.0</td>\n",
       "      <td>2135.39</td>\n",
       "      <td>6037.0</td>\n",
       "      <td>6037</td>\n",
       "      <td>Los Angeles</td>\n",
       "      <td>CA</td>\n",
       "    </tr>\n",
       "  </tbody>\n",
       "</table>\n",
       "</div>"
      ],
      "text/plain": [
       "   Unnamed: 0  bedroomcnt  bathroomcnt  calculatedfinishedsquarefeet  \\\n",
       "0           0         3.0          2.0                        1458.0   \n",
       "1           1         2.0          1.0                        1421.0   \n",
       "2           2         3.0          2.0                        1650.0   \n",
       "3           3         2.0          1.0                         693.0   \n",
       "4           4         0.0          0.0                        1378.0   \n",
       "\n",
       "   taxvaluedollarcnt  taxamount    fips  FIPS         Name State  \n",
       "0           136104.0    2319.90  6037.0  6037  Los Angeles    CA  \n",
       "1            35606.0     543.69  6037.0  6037  Los Angeles    CA  \n",
       "2           614000.0    7673.19  6037.0  6037  Los Angeles    CA  \n",
       "3           274237.0    3267.47  6037.0  6037  Los Angeles    CA  \n",
       "4           168828.0    2135.39  6037.0  6037  Los Angeles    CA  "
      ]
     },
     "execution_count": 3,
     "metadata": {},
     "output_type": "execute_result"
    }
   ],
   "source": [
    "df.head()"
   ]
  },
  {
   "cell_type": "code",
   "execution_count": 4,
   "metadata": {},
   "outputs": [
    {
     "name": "stdout",
     "output_type": "stream",
     "text": [
      "<class 'pandas.core.frame.DataFrame'>\n",
      "RangeIndex: 15036 entries, 0 to 15035\n",
      "Data columns (total 10 columns):\n",
      "Unnamed: 0                      15036 non-null int64\n",
      "bedroomcnt                      15036 non-null float64\n",
      "bathroomcnt                     15036 non-null float64\n",
      "calculatedfinishedsquarefeet    15012 non-null float64\n",
      "taxvaluedollarcnt               15036 non-null float64\n",
      "taxamount                       15035 non-null float64\n",
      "fips                            15036 non-null float64\n",
      "FIPS                            15036 non-null int64\n",
      "Name                            15036 non-null object\n",
      "State                           15036 non-null object\n",
      "dtypes: float64(6), int64(2), object(2)\n",
      "memory usage: 1.1+ MB\n"
     ]
    }
   ],
   "source": [
    "df.info()"
   ]
  },
  {
   "cell_type": "code",
   "execution_count": 5,
   "metadata": {},
   "outputs": [
    {
     "name": "stdout",
     "output_type": "stream",
     "text": [
      "Total number of rows: 15036\n"
     ]
    }
   ],
   "source": [
    "print(f'Total number of rows: {len(df)}')"
   ]
  },
  {
   "cell_type": "markdown",
   "metadata": {},
   "source": [
    "# Preparation"
   ]
  },
  {
   "cell_type": "code",
   "execution_count": 6,
   "metadata": {},
   "outputs": [
    {
     "name": "stdout",
     "output_type": "stream",
     "text": [
      "Data Prepared and Split\n"
     ]
    }
   ],
   "source": [
    "seed = 115\n",
    "train_size = .8\n",
    "\n",
    "train, test = wrangle_data(df, seed, train_size)"
   ]
  },
  {
   "cell_type": "code",
   "execution_count": 7,
   "metadata": {},
   "outputs": [
    {
     "data": {
      "text/html": [
       "<div>\n",
       "<style scoped>\n",
       "    .dataframe tbody tr th:only-of-type {\n",
       "        vertical-align: middle;\n",
       "    }\n",
       "\n",
       "    .dataframe tbody tr th {\n",
       "        vertical-align: top;\n",
       "    }\n",
       "\n",
       "    .dataframe thead th {\n",
       "        text-align: right;\n",
       "    }\n",
       "</style>\n",
       "<table border=\"1\" class=\"dataframe\">\n",
       "  <thead>\n",
       "    <tr style=\"text-align: right;\">\n",
       "      <th></th>\n",
       "      <th>bedroom_count</th>\n",
       "      <th>bathroom_count</th>\n",
       "      <th>total_sqft</th>\n",
       "      <th>property_value</th>\n",
       "      <th>tax_amount</th>\n",
       "      <th>county</th>\n",
       "      <th>state</th>\n",
       "    </tr>\n",
       "  </thead>\n",
       "  <tbody>\n",
       "    <tr>\n",
       "      <th>13032</th>\n",
       "      <td>2.0</td>\n",
       "      <td>2.0</td>\n",
       "      <td>1194.0</td>\n",
       "      <td>371363.0</td>\n",
       "      <td>4111.36</td>\n",
       "      <td>Orange</td>\n",
       "      <td>CA</td>\n",
       "    </tr>\n",
       "    <tr>\n",
       "      <th>1502</th>\n",
       "      <td>3.0</td>\n",
       "      <td>2.0</td>\n",
       "      <td>1794.0</td>\n",
       "      <td>705598.0</td>\n",
       "      <td>8693.67</td>\n",
       "      <td>Los Angeles</td>\n",
       "      <td>CA</td>\n",
       "    </tr>\n",
       "    <tr>\n",
       "      <th>4736</th>\n",
       "      <td>3.0</td>\n",
       "      <td>2.0</td>\n",
       "      <td>1215.0</td>\n",
       "      <td>185287.0</td>\n",
       "      <td>2437.92</td>\n",
       "      <td>Los Angeles</td>\n",
       "      <td>CA</td>\n",
       "    </tr>\n",
       "    <tr>\n",
       "      <th>11558</th>\n",
       "      <td>3.0</td>\n",
       "      <td>2.5</td>\n",
       "      <td>1709.0</td>\n",
       "      <td>653422.0</td>\n",
       "      <td>7024.88</td>\n",
       "      <td>Orange</td>\n",
       "      <td>CA</td>\n",
       "    </tr>\n",
       "    <tr>\n",
       "      <th>6444</th>\n",
       "      <td>4.0</td>\n",
       "      <td>6.0</td>\n",
       "      <td>5862.0</td>\n",
       "      <td>1279726.0</td>\n",
       "      <td>15645.06</td>\n",
       "      <td>Los Angeles</td>\n",
       "      <td>CA</td>\n",
       "    </tr>\n",
       "  </tbody>\n",
       "</table>\n",
       "</div>"
      ],
      "text/plain": [
       "       bedroom_count  bathroom_count  total_sqft  property_value  tax_amount  \\\n",
       "13032            2.0             2.0      1194.0        371363.0     4111.36   \n",
       "1502             3.0             2.0      1794.0        705598.0     8693.67   \n",
       "4736             3.0             2.0      1215.0        185287.0     2437.92   \n",
       "11558            3.0             2.5      1709.0        653422.0     7024.88   \n",
       "6444             4.0             6.0      5862.0       1279726.0    15645.06   \n",
       "\n",
       "            county state  \n",
       "13032       Orange    CA  \n",
       "1502   Los Angeles    CA  \n",
       "4736   Los Angeles    CA  \n",
       "11558       Orange    CA  \n",
       "6444   Los Angeles    CA  "
      ]
     },
     "execution_count": 7,
     "metadata": {},
     "output_type": "execute_result"
    }
   ],
   "source": [
    "train.head()"
   ]
  },
  {
   "cell_type": "code",
   "execution_count": 8,
   "metadata": {},
   "outputs": [
    {
     "name": "stdout",
     "output_type": "stream",
     "text": [
      "<class 'pandas.core.frame.DataFrame'>\n",
      "Int64Index: 11991 entries, 13032 to 6949\n",
      "Data columns (total 7 columns):\n",
      "bedroom_count     11991 non-null float64\n",
      "bathroom_count    11991 non-null float64\n",
      "total_sqft        11991 non-null float64\n",
      "property_value    11991 non-null float64\n",
      "tax_amount        11991 non-null float64\n",
      "county            11991 non-null object\n",
      "state             11991 non-null object\n",
      "dtypes: float64(5), object(2)\n",
      "memory usage: 749.4+ KB\n"
     ]
    }
   ],
   "source": [
    "train.info()"
   ]
  },
  {
   "cell_type": "markdown",
   "metadata": {},
   "source": [
    "# Exploration"
   ]
  },
  {
   "cell_type": "markdown",
   "metadata": {},
   "source": [
    "## Exploration Goals"
   ]
  },
  {
   "cell_type": "markdown",
   "metadata": {},
   "source": [
    "* Calculate the county tax rates\n",
    "* Create graphs that highlights the effect these three features have on the price of a home\n",
    "* Get an idea of underlying patterns in the data"
   ]
  },
  {
   "cell_type": "markdown",
   "metadata": {},
   "source": [
    "## County Tax Rates"
   ]
  },
  {
   "cell_type": "markdown",
   "metadata": {},
   "source": [
    "## Create a Tax Rate Column"
   ]
  },
  {
   "cell_type": "code",
   "execution_count": 9,
   "metadata": {},
   "outputs": [],
   "source": [
    "df['tax_rate'] = df.tax_amount / df.property_value"
   ]
  },
  {
   "cell_type": "code",
   "execution_count": 10,
   "metadata": {},
   "outputs": [
    {
     "data": {
      "text/html": [
       "<div>\n",
       "<style scoped>\n",
       "    .dataframe tbody tr th:only-of-type {\n",
       "        vertical-align: middle;\n",
       "    }\n",
       "\n",
       "    .dataframe tbody tr th {\n",
       "        vertical-align: top;\n",
       "    }\n",
       "\n",
       "    .dataframe thead th {\n",
       "        text-align: right;\n",
       "    }\n",
       "</style>\n",
       "<table border=\"1\" class=\"dataframe\">\n",
       "  <thead>\n",
       "    <tr style=\"text-align: right;\">\n",
       "      <th></th>\n",
       "      <th>bedroom_count</th>\n",
       "      <th>bathroom_count</th>\n",
       "      <th>total_sqft</th>\n",
       "      <th>property_value</th>\n",
       "      <th>tax_amount</th>\n",
       "      <th>county</th>\n",
       "      <th>state</th>\n",
       "      <th>tax_rate</th>\n",
       "    </tr>\n",
       "  </thead>\n",
       "  <tbody>\n",
       "    <tr>\n",
       "      <th>0</th>\n",
       "      <td>3.0</td>\n",
       "      <td>2.0</td>\n",
       "      <td>1458.0</td>\n",
       "      <td>136104.0</td>\n",
       "      <td>2319.9</td>\n",
       "      <td>Los Angeles</td>\n",
       "      <td>CA</td>\n",
       "      <td>0.017045</td>\n",
       "    </tr>\n",
       "  </tbody>\n",
       "</table>\n",
       "</div>"
      ],
      "text/plain": [
       "   bedroom_count  bathroom_count  total_sqft  property_value  tax_amount  \\\n",
       "0            3.0             2.0      1458.0        136104.0      2319.9   \n",
       "\n",
       "        county state  tax_rate  \n",
       "0  Los Angeles    CA  0.017045  "
      ]
     },
     "execution_count": 10,
     "metadata": {},
     "output_type": "execute_result"
    }
   ],
   "source": [
    "df.head(1)"
   ]
  },
  {
   "cell_type": "code",
   "execution_count": 11,
   "metadata": {},
   "outputs": [
    {
     "data": {
      "text/plain": [
       "county\n",
       "Los Angeles    0.014\n",
       "Orange         0.012\n",
       "Ventura        0.012\n",
       "Name: tax_rate, dtype: float64"
      ]
     },
     "execution_count": 11,
     "metadata": {},
     "output_type": "execute_result"
    }
   ],
   "source": [
    "df.groupby(by='county')['tax_rate'].mean().round(3)"
   ]
  },
  {
   "cell_type": "markdown",
   "metadata": {},
   "source": [
    "## Graph out the Distribution of "
   ]
  },
  {
   "cell_type": "markdown",
   "metadata": {},
   "source": [
    "## Graphs"
   ]
  },
  {
   "cell_type": "code",
   "execution_count": 12,
   "metadata": {},
   "outputs": [
    {
     "data": {
      "text/plain": [
       "Text(0.5, 0.98, 'What Affects Taxes Most')"
      ]
     },
     "execution_count": 12,
     "metadata": {},
     "output_type": "execute_result"
    },
    {
     "data": {
      "image/png": "[encoded data removed]",
      "text/plain": [
       "<Figure size 1008x432 with 3 Axes>"
      ]
     },
     "metadata": {
      "needs_background": "light"
     },
     "output_type": "display_data"
    }
   ],
   "source": [
    "# Figure: Scatterplot of Features\n",
    "\n",
    "y = train.property_value\n",
    "\n",
    "plt.figure(figsize=(14,6))\n",
    "\n",
    "# Left graph\n",
    "plt.subplot(131)\n",
    "sns.scatterplot(train.total_sqft, y)\n",
    "plt.title('Total Square Feet')\n",
    "plt.xlabel('Total Square Feet')\n",
    "plt.ylabel('Property Value')\n",
    "\n",
    "# Center graph\n",
    "plt.subplot(132)\n",
    "sns.scatterplot(train.bedroom_count, y)\n",
    "plt.title('Number of Bedrooms')\n",
    "plt.xlabel('# of Bedrooms')\n",
    "plt.ylabel('Property Value')\n",
    "\n",
    "# Right graph\n",
    "plt.subplot(133)\n",
    "sns.scatterplot(train.bathroom_count, y)\n",
    "plt.title('Number of Bathrooms')\n",
    "plt.xlabel('# of Bathrooms')\n",
    "plt.ylabel('Property Value')\n",
    "\n",
    "plt.suptitle('What Affects Taxes Most')"
   ]
  },
  {
   "cell_type": "code",
   "execution_count": 13,
   "metadata": {},
   "outputs": [
    {
     "data": {
      "text/plain": [
       "<Figure size 1152x1152 with 0 Axes>"
      ]
     },
     "execution_count": 13,
     "metadata": {},
     "output_type": "execute_result"
    },
    {
     "data": {
      "image/png": "[encoded data removed]",
      "text/plain": [
       "<Figure size 720x720 with 20 Axes>"
      ]
     },
     "metadata": {
      "needs_background": "light"
     },
     "output_type": "display_data"
    },
    {
     "data": {
      "text/plain": [
       "<Figure size 1152x1152 with 0 Axes>"
      ]
     },
     "metadata": {},
     "output_type": "display_data"
    }
   ],
   "source": [
    "# Figure: Pairplot of Features\n",
    "\n",
    "sns.pairplot(df[['total_sqft', 'bedroom_count', 'bathroom_count', 'tax_amount']], kind='reg')\n",
    "plt.suptitle('Correlation Between Square Feet, Bedrooms and Bathrooms', size=14, y=1.02)\n",
    "plt.figure(figsize=(16, 16))"
   ]
  },
  {
   "cell_type": "code",
   "execution_count": 14,
   "metadata": {},
   "outputs": [
    {
     "data": {
      "text/plain": [
       "<matplotlib.axes._subplots.AxesSubplot at 0x125f1f5d0>"
      ]
     },
     "execution_count": 14,
     "metadata": {},
     "output_type": "execute_result"
    },
    {
     "data": {
      "image/png": "[encoded data removed]",
      "text/plain": [
       "<Figure size 432x288 with 2 Axes>"
      ]
     },
     "metadata": {
      "needs_background": "light"
     },
     "output_type": "display_data"
    }
   ],
   "source": [
    "corr = train.corr()\n",
    "sns.heatmap(corr, cmap=\"BuGn\")"
   ]
  },
  {
   "cell_type": "markdown",
   "metadata": {},
   "source": [
    "# Modeling"
   ]
  },
  {
   "cell_type": "markdown",
   "metadata": {},
   "source": [
    "## Create a Dataframe to Hold Actual and Predicted Values"
   ]
  },
  {
   "cell_type": "code",
   "execution_count": 15,
   "metadata": {},
   "outputs": [],
   "source": [
    "predictions = pd.DataFrame(\n",
    "    {'actual': train.tax_amount})"
   ]
  },
  {
   "cell_type": "markdown",
   "metadata": {},
   "source": [
    "## Create Basic Models (Measures a Single Feature)"
   ]
  },
  {
   "cell_type": "code",
   "execution_count": 16,
   "metadata": {},
   "outputs": [],
   "source": [
    "# Model Using the Total Square Feet to Predict Tax Amount\n",
    "\n",
    "x1 = train[['total_sqft']]\n",
    "y = train.tax_amount\n",
    "\n",
    "lm_sqft = LinearRegression().fit(x1, y)"
   ]
  },
  {
   "cell_type": "code",
   "execution_count": 17,
   "metadata": {},
   "outputs": [],
   "source": [
    "# Model Using the Number of Bedrooms to Predict Tax Amount\n",
    "\n",
    "x2 = train[['bedroom_count']]\n",
    "y = train.tax_amount\n",
    "\n",
    "lm_bedroom = LinearRegression().fit(x2, y)"
   ]
  },
  {
   "cell_type": "code",
   "execution_count": 18,
   "metadata": {},
   "outputs": [],
   "source": [
    "# Model Using the Number of Bathrooms to Predict Tax Amount\n",
    "\n",
    "x3 = train[['bathroom_count']]\n",
    "y = train.tax_amount\n",
    "\n",
    "lm_bathroom = LinearRegression().fit(x3, y)"
   ]
  },
  {
   "cell_type": "markdown",
   "metadata": {},
   "source": [
    "## Use the  Models to Create Predictions"
   ]
  },
  {
   "cell_type": "code",
   "execution_count": 20,
   "metadata": {},
   "outputs": [],
   "source": [
    "predictions['baseline'] = y.mean()\n",
    "predictions['lm_sqft'] = lm_sqft.predict(x1)\n",
    "predictions['lm_bedroom'] = lm_bedroom.predict(x2)\n",
    "predictions['lm_bathroom'] = lm_bathroom.predict(x3)\n",
    "predictions['lm_sqft_bed_bath'] = lm_sqft_bed_bath.predict(x4)"
   ]
  },
  {
   "cell_type": "code",
   "execution_count": 21,
   "metadata": {},
   "outputs": [
    {
     "data": {
      "text/html": [
       "<div>\n",
       "<style scoped>\n",
       "    .dataframe tbody tr th:only-of-type {\n",
       "        vertical-align: middle;\n",
       "    }\n",
       "\n",
       "    .dataframe tbody tr th {\n",
       "        vertical-align: top;\n",
       "    }\n",
       "\n",
       "    .dataframe thead th {\n",
       "        text-align: right;\n",
       "    }\n",
       "</style>\n",
       "<table border=\"1\" class=\"dataframe\">\n",
       "  <thead>\n",
       "    <tr style=\"text-align: right;\">\n",
       "      <th></th>\n",
       "      <th>actual</th>\n",
       "      <th>baseline</th>\n",
       "      <th>lm_sqft</th>\n",
       "      <th>lm_bedroom</th>\n",
       "      <th>lm_bathroom</th>\n",
       "      <th>lm_sqft_bed_bath</th>\n",
       "    </tr>\n",
       "  </thead>\n",
       "  <tbody>\n",
       "    <tr>\n",
       "      <th>13032</th>\n",
       "      <td>4111.36</td>\n",
       "      <td>6626.529484</td>\n",
       "      <td>2748.978695</td>\n",
       "      <td>3212.867579</td>\n",
       "      <td>5144.063272</td>\n",
       "      <td>4411.987633</td>\n",
       "    </tr>\n",
       "    <tr>\n",
       "      <th>1502</th>\n",
       "      <td>8693.67</td>\n",
       "      <td>6626.529484</td>\n",
       "      <td>5798.404711</td>\n",
       "      <td>5783.081060</td>\n",
       "      <td>5144.063272</td>\n",
       "      <td>6032.039413</td>\n",
       "    </tr>\n",
       "    <tr>\n",
       "      <th>4736</th>\n",
       "      <td>2437.92</td>\n",
       "      <td>6626.529484</td>\n",
       "      <td>2855.708605</td>\n",
       "      <td>5783.081060</td>\n",
       "      <td>5144.063272</td>\n",
       "      <td>2899.208274</td>\n",
       "    </tr>\n",
       "    <tr>\n",
       "      <th>11558</th>\n",
       "      <td>7024.88</td>\n",
       "      <td>6626.529484</td>\n",
       "      <td>5366.402692</td>\n",
       "      <td>5783.081060</td>\n",
       "      <td>7321.458219</td>\n",
       "      <td>5934.298357</td>\n",
       "    </tr>\n",
       "    <tr>\n",
       "      <th>6444</th>\n",
       "      <td>15645.06</td>\n",
       "      <td>6626.529484</td>\n",
       "      <td>26473.513102</td>\n",
       "      <td>8353.294541</td>\n",
       "      <td>22563.222841</td>\n",
       "      <td>29314.003095</td>\n",
       "    </tr>\n",
       "  </tbody>\n",
       "</table>\n",
       "</div>"
      ],
      "text/plain": [
       "         actual     baseline       lm_sqft   lm_bedroom   lm_bathroom  \\\n",
       "13032   4111.36  6626.529484   2748.978695  3212.867579   5144.063272   \n",
       "1502    8693.67  6626.529484   5798.404711  5783.081060   5144.063272   \n",
       "4736    2437.92  6626.529484   2855.708605  5783.081060   5144.063272   \n",
       "11558   7024.88  6626.529484   5366.402692  5783.081060   7321.458219   \n",
       "6444   15645.06  6626.529484  26473.513102  8353.294541  22563.222841   \n",
       "\n",
       "       lm_sqft_bed_bath  \n",
       "13032       4411.987633  \n",
       "1502        6032.039413  \n",
       "4736        2899.208274  \n",
       "11558       5934.298357  \n",
       "6444       29314.003095  "
      ]
     },
     "execution_count": 21,
     "metadata": {},
     "output_type": "execute_result"
    }
   ],
   "source": [
    "predictions.head()"
   ]
  },
  {
   "cell_type": "markdown",
   "metadata": {},
   "source": [
    "# Evaluation"
   ]
  },
  {
   "cell_type": "markdown",
   "metadata": {},
   "source": [
    "## Use RMSE to Compare Models"
   ]
  },
  {
   "cell_type": "code",
   "execution_count": 47,
   "metadata": {},
   "outputs": [],
   "source": [
    "rmse_results = {\n",
    "'baseline_model' : sqrt(mse(predictions.actual, predictions.baseline)),   \n",
    "'sqft_model' : sqrt(mse(predictions.actual, predictions.lm_sqft)),\n",
    "'bedroom_model' : sqrt(mse(predictions.actual, predictions.lm_bedroom)),\n",
    "'bathroom_model' : sqrt(mse(predictions.actual, predictions.lm_bathroom)),\n",
    "'sqft_bedroom_bathroom_model' : sqrt(mse(predictions.actual, predictions.lm_sqft_bed_bath))\n",
    "}"
   ]
  },
  {
   "cell_type": "markdown",
   "metadata": {},
   "source": [
    "## Evaluating the Best Model to Test for Overfitting"
   ]
  },
  {
   "cell_type": "code",
   "execution_count": null,
   "metadata": {},
   "outputs": [],
   "source": []
  },
  {
   "cell_type": "markdown",
   "metadata": {},
   "source": [
    "## Result"
   ]
  },
  {
   "cell_type": "code",
   "execution_count": 54,
   "metadata": {},
   "outputs": [
    {
     "name": "stdout",
     "output_type": "stream",
     "text": [
      "baseline_model: 8388.437278484398\n",
      "sqft_model: 6616.782802909106\n",
      "bedroom_model: 8032.762747110267\n",
      "bathroom_model: 7107.028983907678\n",
      "sqft_bedroom_bathroom_model: 6515.927017532109\n"
     ]
    }
   ],
   "source": [
    "for key in rmse_results:\n",
    "    print(f'{key}: {rmse_results[key]}')"
   ]
  },
  {
   "cell_type": "markdown",
   "metadata": {},
   "source": [
    "__Model using a combination of all three features performed the best__. \n",
    "Additionally, model beats baseline indicating model is significant."
   ]
  }
 ],
 "metadata": {
  "kernelspec": {
   "display_name": "Python 3",
   "language": "python",
   "name": "python3"
  },
  "language_info": {
   "codemirror_mode": {
    "name": "ipython",
    "version": 3
   },
   "file_extension": ".py",
   "mimetype": "text/x-python",
   "name": "python",
   "nbconvert_exporter": "python",
   "pygments_lexer": "ipython3",
   "version": "3.7.4"
  },
  "toc": {
   "base_numbering": 1,
   "nav_menu": {},
   "number_sections": true,
   "sideBar": true,
   "skip_h1_title": false,
   "title_cell": "Table of Contents",
   "title_sidebar": "Contents",
   "toc_cell": false,
   "toc_position": {
    "height": "calc(100% - 180px)",
    "left": "10px",
    "top": "150px",
    "width": "384px"
   },
   "toc_section_display": true,
   "toc_window_display": false
  }
 },
 "nbformat": 4,
 "nbformat_minor": 4
}
