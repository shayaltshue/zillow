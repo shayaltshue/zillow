{
 "cells": [
  {
   "cell_type": "code",
   "execution_count": null,
   "metadata": {},
   "outputs": [],
   "source": [
    "from acquire import acquire_data\n",
    "from wrangle import wrangle_data\n",
    "import env\n",
    "\n",
    "import numpy as np\n",
    "import pandas as pd\n",
    "\n",
    "from matplotlib import pyplot as plt\n",
    "import seaborn as sns\n",
    "\n",
    "from sklearn.preprocessing import MinMaxScaler\n",
    "from sklearn.linear_model import LinearRegression\n",
    "from sklearn.metrics import mean_squared_error as mse\n",
    "from scipy.stats import linregress\n",
    "\n",
    "from math import sqrt"
   ]
  },
  {
   "cell_type": "markdown",
   "metadata": {},
   "source": [
    "# Aqcuisition"
   ]
  },
  {
   "cell_type": "code",
   "execution_count": null,
   "metadata": {},
   "outputs": [],
   "source": [
    "df = acquire_data()"
   ]
  },
  {
   "cell_type": "code",
   "execution_count": null,
   "metadata": {},
   "outputs": [],
   "source": [
    "df.head()"
   ]
  },
  {
   "cell_type": "code",
   "execution_count": null,
   "metadata": {},
   "outputs": [],
   "source": [
    "df.info()"
   ]
  },
  {
   "cell_type": "code",
   "execution_count": null,
   "metadata": {},
   "outputs": [],
   "source": [
    "print(f'Total number of rows: {len(df)}')"
   ]
  },
  {
   "cell_type": "markdown",
   "metadata": {},
   "source": [
    "# Preparation"
   ]
  },
  {
   "cell_type": "code",
   "execution_count": null,
   "metadata": {},
   "outputs": [],
   "source": [
    "seed = 115\n",
    "train_size = .8\n",
    "\n",
    "train, test = wrangle_data(df, seed, train_size)"
   ]
  },
  {
   "cell_type": "code",
   "execution_count": null,
   "metadata": {},
   "outputs": [],
   "source": [
    "train.head()"
   ]
  },
  {
   "cell_type": "code",
   "execution_count": null,
   "metadata": {},
   "outputs": [],
   "source": [
    "train.info()"
   ]
  },
  {
   "cell_type": "markdown",
   "metadata": {},
   "source": [
    "# Exploration"
   ]
  },
  {
   "cell_type": "markdown",
   "metadata": {},
   "source": [
    "## Exploration Goals"
   ]
  },
  {
   "cell_type": "markdown",
   "metadata": {},
   "source": [
    "* Create graphs that highlights the effect these three features have on the price of a home\n",
    "* Get an idea of underlying patterns in the data"
   ]
  },
  {
   "cell_type": "markdown",
   "metadata": {},
   "source": [
    "## Graphs"
   ]
  },
  {
   "cell_type": "code",
   "execution_count": null,
   "metadata": {},
   "outputs": [],
   "source": [
    "# Figure: Scatterplot of Features\n",
    "\n",
    "y = train.tax_amount\n",
    "\n",
    "plt.figure(figsize=(14,6))\n",
    "\n",
    "# Left graph\n",
    "plt.subplot(131)\n",
    "sns.scatterplot(train.total_sqft, y)\n",
    "plt.title('Total Square Feet')\n",
    "plt.xlabel('Total Square Feet')\n",
    "plt.ylabel('Tax Amount')\n",
    "\n",
    "# Center graph\n",
    "plt.subplot(132)\n",
    "sns.scatterplot(train.bedroom_count, y)\n",
    "plt.title('Number of Bedrooms')\n",
    "plt.xlabel('# of Bedrooms')\n",
    "plt.ylabel('Tax Amount')\n",
    "\n",
    "# Right graph\n",
    "plt.subplot(133)\n",
    "sns.scatterplot(train.bathroom_count, y)\n",
    "plt.title('Number of Bathrooms')\n",
    "plt.xlabel('# of Bathrooms')\n",
    "plt.ylabel('Tax Amount')\n",
    "\n",
    "plt.suptitle('What Affects Taxes Most')"
   ]
  },
  {
   "cell_type": "code",
   "execution_count": null,
   "metadata": {},
   "outputs": [],
   "source": [
    "# Figure: Pairplot of Features\n",
    "\n",
    "sns.pairplot(df[['total_sqft', 'bedroom_count', 'bathroom_count', 'tax_amount']], kind='reg')\n",
    "plt.suptitle('Correlation Between Square Feet, Bedrooms and Bathrooms', size=14, y=1.02)\n",
    "plt.figure(figsize=(16, 16))"
   ]
  },
  {
   "cell_type": "code",
   "execution_count": null,
   "metadata": {},
   "outputs": [],
   "source": [
    "corr = train.corr()\n",
    "sns.heatmap(corr, cmap=\"BuGn\")"
   ]
  },
  {
   "cell_type": "markdown",
   "metadata": {},
   "source": [
    "# Modeling"
   ]
  },
  {
   "cell_type": "markdown",
   "metadata": {},
   "source": [
    "## Create a Dataframe to Hold Actual and Predicted Values"
   ]
  },
  {
   "cell_type": "code",
   "execution_count": null,
   "metadata": {},
   "outputs": [],
   "source": [
    "predictions = pd.DataFrame(\n",
    "    {'actual': train.tax_amount})"
   ]
  },
  {
   "cell_type": "markdown",
   "metadata": {},
   "source": [
    "## Create the Models"
   ]
  },
  {
   "cell_type": "code",
   "execution_count": null,
   "metadata": {},
   "outputs": [],
   "source": [
    "# Model Using the Total Square Feet to Predict Tax Amount\n",
    "\n",
    "x = train[['total_sqft']]\n",
    "y = train.tax_amount\n",
    "\n",
    "lm_sqft = LinearRegression().fit(x, y)"
   ]
  },
  {
   "cell_type": "code",
   "execution_count": null,
   "metadata": {},
   "outputs": [],
   "source": [
    "# Model Using the Number of Bedrooms to Predict Tax Amount\n",
    "\n",
    "x = train[['bedroom_count']]\n",
    "y = train.tax_amount\n",
    "\n",
    "lm_bedroom = LinearRegression().fit(x, y)"
   ]
  },
  {
   "cell_type": "code",
   "execution_count": null,
   "metadata": {},
   "outputs": [],
   "source": [
    "# Model Using the Number of Bathrooms to Predict Tax Amount\n",
    "\n",
    "x = train[['bathroom_count']]\n",
    "y = train.tax_amount\n",
    "\n",
    "lm_bathroom = LinearRegression().fit(x, y)"
   ]
  },
  {
   "cell_type": "markdown",
   "metadata": {},
   "source": [
    "## Use the  Models to Create Predictions"
   ]
  },
  {
   "cell_type": "code",
   "execution_count": null,
   "metadata": {},
   "outputs": [],
   "source": [
    "predictions['baseline'] = y.mean()\n",
    "predictions['lm_sqft'] = lm_sqft.predict(x)\n",
    "predictions['lm_bedroom'] = lm_bedroom.predict(x)\n",
    "predictions['lm_bathroom'] = lm_bathroom.predict(x)"
   ]
  },
  {
   "cell_type": "code",
   "execution_count": null,
   "metadata": {},
   "outputs": [],
   "source": [
    "predictions.head()"
   ]
  },
  {
   "cell_type": "markdown",
   "metadata": {},
   "source": [
    "# Evaluation"
   ]
  },
  {
   "cell_type": "markdown",
   "metadata": {},
   "source": [
    "## Use RMSE to Compare Models"
   ]
  },
  {
   "cell_type": "code",
   "execution_count": null,
   "metadata": {},
   "outputs": [],
   "source": [
    "rmse_sqft = sqrt(mse(predictions.actual, predictions.lm_sqft))\n",
    "rmse_bedroom = sqrt(mse(predictions.actual, predictions.lm_bedroom))\n",
    "rmse_bathroom = sqrt(mse(predictions.actual, predictions.lm_bathroom))\n",
    "rmse_baseline = sqrt(mse(predictions.actual, predictions.baseline))"
   ]
  },
  {
   "cell_type": "code",
   "execution_count": null,
   "metadata": {},
   "outputs": [],
   "source": [
    "print('sqft: {: .2f}, bedroom: {: .2f}, bathroom: {: .2f}, baseline: {: .2f}'.format(rmse_sqft, rmse_bedroom, rmse_bathroom, rmse_baseline))"
   ]
  },
  {
   "cell_type": "markdown",
   "metadata": {},
   "source": [
    "## Result"
   ]
  },
  {
   "cell_type": "markdown",
   "metadata": {},
   "source": [
    "__Model using bathrooms as driver performed the best__. Additionally, model beats baseline indicating model is significant."
   ]
  }
 ],
 "metadata": {
  "kernelspec": {
   "display_name": "Python 3",
   "language": "python",
   "name": "python3"
  },
  "language_info": {
   "codemirror_mode": {
    "name": "ipython",
    "version": 3
   },
   "file_extension": ".py",
   "mimetype": "text/x-python",
   "name": "python",
   "nbconvert_exporter": "python",
   "pygments_lexer": "ipython3",
   "version": "3.7.4"
  },
  "toc": {
   "base_numbering": 1,
   "nav_menu": {},
   "number_sections": true,
   "sideBar": true,
   "skip_h1_title": false,
   "title_cell": "Table of Contents",
   "title_sidebar": "Contents",
   "toc_cell": false,
   "toc_position": {
    "height": "calc(100% - 180px)",
    "left": "10px",
    "top": "150px",
    "width": "384px"
   },
   "toc_section_display": true,
   "toc_window_display": false
  }
 },
 "nbformat": 4,
 "nbformat_minor": 4
}
