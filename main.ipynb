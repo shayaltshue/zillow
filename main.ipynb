{
 "cells": [
  {
   "cell_type": "markdown",
   "metadata": {},
   "source": [
    "# Imports"
   ]
  },
  {
   "cell_type": "code",
   "execution_count": 1,
   "metadata": {},
   "outputs": [],
   "source": [
    "from acquire import acquire_data\n",
    "from wrangle import wrangle_data\n",
    "\n",
    "import numpy as np\n",
    "import pandas as pd\n",
    "\n",
    "import graph\n",
    "import matplotlib.pyplot as plt\n",
    "import seaborn as sns\n",
    "\n",
    "from sklearn.preprocessing import MinMaxScaler\n",
    "from sklearn.linear_model import LinearRegression\n",
    "from sklearn.metrics import mean_squared_error as mse\n",
    "from scipy.stats import linregress, ttest_1samp\n",
    "\n",
    "from math import sqrt"
   ]
  },
  {
   "cell_type": "markdown",
   "metadata": {},
   "source": [
    "# Aqcuisition"
   ]
  },
  {
   "cell_type": "code",
   "execution_count": 2,
   "metadata": {},
   "outputs": [
    {
     "name": "stdout",
     "output_type": "stream",
     "text": [
      "csv has been previously generated.\n",
      "Data Acquired\n"
     ]
    }
   ],
   "source": [
    "df = acquire_data()"
   ]
  },
  {
   "cell_type": "code",
   "execution_count": 3,
   "metadata": {},
   "outputs": [
    {
     "data": {
      "text/html": [
       "<div>\n",
       "<style scoped>\n",
       "    .dataframe tbody tr th:only-of-type {\n",
       "        vertical-align: middle;\n",
       "    }\n",
       "\n",
       "    .dataframe tbody tr th {\n",
       "        vertical-align: top;\n",
       "    }\n",
       "\n",
       "    .dataframe thead th {\n",
       "        text-align: right;\n",
       "    }\n",
       "</style>\n",
       "<table border=\"1\" class=\"dataframe\">\n",
       "  <thead>\n",
       "    <tr style=\"text-align: right;\">\n",
       "      <th></th>\n",
       "      <th>Unnamed: 0</th>\n",
       "      <th>bedroomcnt</th>\n",
       "      <th>bathroomcnt</th>\n",
       "      <th>calculatedfinishedsquarefeet</th>\n",
       "      <th>taxvaluedollarcnt</th>\n",
       "      <th>taxamount</th>\n",
       "      <th>fips</th>\n",
       "      <th>FIPS</th>\n",
       "      <th>Name</th>\n",
       "      <th>State</th>\n",
       "    </tr>\n",
       "  </thead>\n",
       "  <tbody>\n",
       "    <tr>\n",
       "      <th>0</th>\n",
       "      <td>0</td>\n",
       "      <td>3.0</td>\n",
       "      <td>2.0</td>\n",
       "      <td>1458.0</td>\n",
       "      <td>136104.0</td>\n",
       "      <td>2319.90</td>\n",
       "      <td>6037.0</td>\n",
       "      <td>6037</td>\n",
       "      <td>Los Angeles</td>\n",
       "      <td>CA</td>\n",
       "    </tr>\n",
       "    <tr>\n",
       "      <th>1</th>\n",
       "      <td>1</td>\n",
       "      <td>2.0</td>\n",
       "      <td>1.0</td>\n",
       "      <td>1421.0</td>\n",
       "      <td>35606.0</td>\n",
       "      <td>543.69</td>\n",
       "      <td>6037.0</td>\n",
       "      <td>6037</td>\n",
       "      <td>Los Angeles</td>\n",
       "      <td>CA</td>\n",
       "    </tr>\n",
       "    <tr>\n",
       "      <th>2</th>\n",
       "      <td>2</td>\n",
       "      <td>3.0</td>\n",
       "      <td>2.0</td>\n",
       "      <td>1650.0</td>\n",
       "      <td>614000.0</td>\n",
       "      <td>7673.19</td>\n",
       "      <td>6037.0</td>\n",
       "      <td>6037</td>\n",
       "      <td>Los Angeles</td>\n",
       "      <td>CA</td>\n",
       "    </tr>\n",
       "    <tr>\n",
       "      <th>3</th>\n",
       "      <td>3</td>\n",
       "      <td>2.0</td>\n",
       "      <td>1.0</td>\n",
       "      <td>693.0</td>\n",
       "      <td>274237.0</td>\n",
       "      <td>3267.47</td>\n",
       "      <td>6037.0</td>\n",
       "      <td>6037</td>\n",
       "      <td>Los Angeles</td>\n",
       "      <td>CA</td>\n",
       "    </tr>\n",
       "    <tr>\n",
       "      <th>4</th>\n",
       "      <td>4</td>\n",
       "      <td>0.0</td>\n",
       "      <td>0.0</td>\n",
       "      <td>1378.0</td>\n",
       "      <td>168828.0</td>\n",
       "      <td>2135.39</td>\n",
       "      <td>6037.0</td>\n",
       "      <td>6037</td>\n",
       "      <td>Los Angeles</td>\n",
       "      <td>CA</td>\n",
       "    </tr>\n",
       "  </tbody>\n",
       "</table>\n",
       "</div>"
      ],
      "text/plain": [
       "   Unnamed: 0  bedroomcnt  bathroomcnt  calculatedfinishedsquarefeet  \\\n",
       "0           0         3.0          2.0                        1458.0   \n",
       "1           1         2.0          1.0                        1421.0   \n",
       "2           2         3.0          2.0                        1650.0   \n",
       "3           3         2.0          1.0                         693.0   \n",
       "4           4         0.0          0.0                        1378.0   \n",
       "\n",
       "   taxvaluedollarcnt  taxamount    fips  FIPS         Name State  \n",
       "0           136104.0    2319.90  6037.0  6037  Los Angeles    CA  \n",
       "1            35606.0     543.69  6037.0  6037  Los Angeles    CA  \n",
       "2           614000.0    7673.19  6037.0  6037  Los Angeles    CA  \n",
       "3           274237.0    3267.47  6037.0  6037  Los Angeles    CA  \n",
       "4           168828.0    2135.39  6037.0  6037  Los Angeles    CA  "
      ]
     },
     "execution_count": 3,
     "metadata": {},
     "output_type": "execute_result"
    }
   ],
   "source": [
    "df.head()"
   ]
  },
  {
   "cell_type": "code",
   "execution_count": 4,
   "metadata": {},
   "outputs": [
    {
     "data": {
      "text/plain": [
       "Unnamed: 0                        int64\n",
       "bedroomcnt                      float64\n",
       "bathroomcnt                     float64\n",
       "calculatedfinishedsquarefeet    float64\n",
       "taxvaluedollarcnt               float64\n",
       "taxamount                       float64\n",
       "fips                            float64\n",
       "FIPS                              int64\n",
       "Name                             object\n",
       "State                            object\n",
       "dtype: object"
      ]
     },
     "execution_count": 4,
     "metadata": {},
     "output_type": "execute_result"
    }
   ],
   "source": [
    "df.dtypes"
   ]
  },
  {
   "cell_type": "code",
   "execution_count": 5,
   "metadata": {},
   "outputs": [
    {
     "data": {
      "text/html": [
       "<div>\n",
       "<style scoped>\n",
       "    .dataframe tbody tr th:only-of-type {\n",
       "        vertical-align: middle;\n",
       "    }\n",
       "\n",
       "    .dataframe tbody tr th {\n",
       "        vertical-align: top;\n",
       "    }\n",
       "\n",
       "    .dataframe thead th {\n",
       "        text-align: right;\n",
       "    }\n",
       "</style>\n",
       "<table border=\"1\" class=\"dataframe\">\n",
       "  <thead>\n",
       "    <tr style=\"text-align: right;\">\n",
       "      <th></th>\n",
       "      <th>Unnamed: 0</th>\n",
       "      <th>bedroomcnt</th>\n",
       "      <th>bathroomcnt</th>\n",
       "      <th>calculatedfinishedsquarefeet</th>\n",
       "      <th>taxvaluedollarcnt</th>\n",
       "      <th>taxamount</th>\n",
       "      <th>fips</th>\n",
       "      <th>FIPS</th>\n",
       "    </tr>\n",
       "  </thead>\n",
       "  <tbody>\n",
       "    <tr>\n",
       "      <th>count</th>\n",
       "      <td>15036.000000</td>\n",
       "      <td>15036.000000</td>\n",
       "      <td>15036.000000</td>\n",
       "      <td>15012.000000</td>\n",
       "      <td>1.503600e+04</td>\n",
       "      <td>15035.000000</td>\n",
       "      <td>15036.000000</td>\n",
       "      <td>15036.000000</td>\n",
       "    </tr>\n",
       "    <tr>\n",
       "      <th>mean</th>\n",
       "      <td>7517.500000</td>\n",
       "      <td>3.307595</td>\n",
       "      <td>2.322426</td>\n",
       "      <td>1942.043165</td>\n",
       "      <td>5.434477e+05</td>\n",
       "      <td>6618.896851</td>\n",
       "      <td>6049.395318</td>\n",
       "      <td>6049.395318</td>\n",
       "    </tr>\n",
       "    <tr>\n",
       "      <th>std</th>\n",
       "      <td>4340.663659</td>\n",
       "      <td>0.951095</td>\n",
       "      <td>1.025202</td>\n",
       "      <td>1001.672378</td>\n",
       "      <td>7.354153e+05</td>\n",
       "      <td>8513.788079</td>\n",
       "      <td>21.237001</td>\n",
       "      <td>21.237001</td>\n",
       "    </tr>\n",
       "    <tr>\n",
       "      <th>min</th>\n",
       "      <td>0.000000</td>\n",
       "      <td>0.000000</td>\n",
       "      <td>0.000000</td>\n",
       "      <td>300.000000</td>\n",
       "      <td>1.050400e+04</td>\n",
       "      <td>51.260000</td>\n",
       "      <td>6037.000000</td>\n",
       "      <td>6037.000000</td>\n",
       "    </tr>\n",
       "    <tr>\n",
       "      <th>25%</th>\n",
       "      <td>3758.750000</td>\n",
       "      <td>3.000000</td>\n",
       "      <td>2.000000</td>\n",
       "      <td>1274.750000</td>\n",
       "      <td>1.986335e+05</td>\n",
       "      <td>2707.960000</td>\n",
       "      <td>6037.000000</td>\n",
       "      <td>6037.000000</td>\n",
       "    </tr>\n",
       "    <tr>\n",
       "      <th>50%</th>\n",
       "      <td>7517.500000</td>\n",
       "      <td>3.000000</td>\n",
       "      <td>2.000000</td>\n",
       "      <td>1679.000000</td>\n",
       "      <td>3.851740e+05</td>\n",
       "      <td>4775.900000</td>\n",
       "      <td>6037.000000</td>\n",
       "      <td>6037.000000</td>\n",
       "    </tr>\n",
       "    <tr>\n",
       "      <th>75%</th>\n",
       "      <td>11276.250000</td>\n",
       "      <td>4.000000</td>\n",
       "      <td>3.000000</td>\n",
       "      <td>2346.000000</td>\n",
       "      <td>6.452412e+05</td>\n",
       "      <td>7683.940000</td>\n",
       "      <td>6059.000000</td>\n",
       "      <td>6059.000000</td>\n",
       "    </tr>\n",
       "    <tr>\n",
       "      <th>max</th>\n",
       "      <td>15035.000000</td>\n",
       "      <td>12.000000</td>\n",
       "      <td>11.000000</td>\n",
       "      <td>15450.000000</td>\n",
       "      <td>2.385837e+07</td>\n",
       "      <td>276797.830000</td>\n",
       "      <td>6111.000000</td>\n",
       "      <td>6111.000000</td>\n",
       "    </tr>\n",
       "  </tbody>\n",
       "</table>\n",
       "</div>"
      ],
      "text/plain": [
       "         Unnamed: 0    bedroomcnt   bathroomcnt  calculatedfinishedsquarefeet  \\\n",
       "count  15036.000000  15036.000000  15036.000000                  15012.000000   \n",
       "mean    7517.500000      3.307595      2.322426                   1942.043165   \n",
       "std     4340.663659      0.951095      1.025202                   1001.672378   \n",
       "min        0.000000      0.000000      0.000000                    300.000000   \n",
       "25%     3758.750000      3.000000      2.000000                   1274.750000   \n",
       "50%     7517.500000      3.000000      2.000000                   1679.000000   \n",
       "75%    11276.250000      4.000000      3.000000                   2346.000000   \n",
       "max    15035.000000     12.000000     11.000000                  15450.000000   \n",
       "\n",
       "       taxvaluedollarcnt      taxamount          fips          FIPS  \n",
       "count       1.503600e+04   15035.000000  15036.000000  15036.000000  \n",
       "mean        5.434477e+05    6618.896851   6049.395318   6049.395318  \n",
       "std         7.354153e+05    8513.788079     21.237001     21.237001  \n",
       "min         1.050400e+04      51.260000   6037.000000   6037.000000  \n",
       "25%         1.986335e+05    2707.960000   6037.000000   6037.000000  \n",
       "50%         3.851740e+05    4775.900000   6037.000000   6037.000000  \n",
       "75%         6.452412e+05    7683.940000   6059.000000   6059.000000  \n",
       "max         2.385837e+07  276797.830000   6111.000000   6111.000000  "
      ]
     },
     "execution_count": 5,
     "metadata": {},
     "output_type": "execute_result"
    }
   ],
   "source": [
    "df.describe()"
   ]
  },
  {
   "cell_type": "code",
   "execution_count": 6,
   "metadata": {},
   "outputs": [
    {
     "name": "stdout",
     "output_type": "stream",
     "text": [
      "Total number of rows: 15036\n"
     ]
    }
   ],
   "source": [
    "print(f'Total number of rows: {len(df)}')"
   ]
  },
  {
   "cell_type": "markdown",
   "metadata": {},
   "source": [
    "# Preparation"
   ]
  },
  {
   "cell_type": "code",
   "execution_count": 7,
   "metadata": {},
   "outputs": [
    {
     "name": "stdout",
     "output_type": "stream",
     "text": [
      "Data Prepared and Split\n"
     ]
    }
   ],
   "source": [
    "seed = 115\n",
    "train_size = .8\n",
    "\n",
    "train, test = wrangle_data(df, seed, train_size)"
   ]
  },
  {
   "cell_type": "code",
   "execution_count": 8,
   "metadata": {},
   "outputs": [
    {
     "data": {
      "text/html": [
       "<div>\n",
       "<style scoped>\n",
       "    .dataframe tbody tr th:only-of-type {\n",
       "        vertical-align: middle;\n",
       "    }\n",
       "\n",
       "    .dataframe tbody tr th {\n",
       "        vertical-align: top;\n",
       "    }\n",
       "\n",
       "    .dataframe thead th {\n",
       "        text-align: right;\n",
       "    }\n",
       "</style>\n",
       "<table border=\"1\" class=\"dataframe\">\n",
       "  <thead>\n",
       "    <tr style=\"text-align: right;\">\n",
       "      <th></th>\n",
       "      <th>bedroom_count</th>\n",
       "      <th>bathroom_count</th>\n",
       "      <th>total_sqft</th>\n",
       "      <th>property_value</th>\n",
       "      <th>tax_amount</th>\n",
       "      <th>county</th>\n",
       "      <th>state</th>\n",
       "    </tr>\n",
       "  </thead>\n",
       "  <tbody>\n",
       "    <tr>\n",
       "      <th>13032</th>\n",
       "      <td>2.0</td>\n",
       "      <td>2.0</td>\n",
       "      <td>1194.0</td>\n",
       "      <td>371363.0</td>\n",
       "      <td>4111.36</td>\n",
       "      <td>Orange</td>\n",
       "      <td>CA</td>\n",
       "    </tr>\n",
       "    <tr>\n",
       "      <th>1502</th>\n",
       "      <td>3.0</td>\n",
       "      <td>2.0</td>\n",
       "      <td>1794.0</td>\n",
       "      <td>705598.0</td>\n",
       "      <td>8693.67</td>\n",
       "      <td>Los Angeles</td>\n",
       "      <td>CA</td>\n",
       "    </tr>\n",
       "    <tr>\n",
       "      <th>4736</th>\n",
       "      <td>3.0</td>\n",
       "      <td>2.0</td>\n",
       "      <td>1215.0</td>\n",
       "      <td>185287.0</td>\n",
       "      <td>2437.92</td>\n",
       "      <td>Los Angeles</td>\n",
       "      <td>CA</td>\n",
       "    </tr>\n",
       "    <tr>\n",
       "      <th>11558</th>\n",
       "      <td>3.0</td>\n",
       "      <td>2.5</td>\n",
       "      <td>1709.0</td>\n",
       "      <td>653422.0</td>\n",
       "      <td>7024.88</td>\n",
       "      <td>Orange</td>\n",
       "      <td>CA</td>\n",
       "    </tr>\n",
       "    <tr>\n",
       "      <th>6444</th>\n",
       "      <td>4.0</td>\n",
       "      <td>6.0</td>\n",
       "      <td>5862.0</td>\n",
       "      <td>1279726.0</td>\n",
       "      <td>15645.06</td>\n",
       "      <td>Los Angeles</td>\n",
       "      <td>CA</td>\n",
       "    </tr>\n",
       "  </tbody>\n",
       "</table>\n",
       "</div>"
      ],
      "text/plain": [
       "       bedroom_count  bathroom_count  total_sqft  property_value  tax_amount  \\\n",
       "13032            2.0             2.0      1194.0        371363.0     4111.36   \n",
       "1502             3.0             2.0      1794.0        705598.0     8693.67   \n",
       "4736             3.0             2.0      1215.0        185287.0     2437.92   \n",
       "11558            3.0             2.5      1709.0        653422.0     7024.88   \n",
       "6444             4.0             6.0      5862.0       1279726.0    15645.06   \n",
       "\n",
       "            county state  \n",
       "13032       Orange    CA  \n",
       "1502   Los Angeles    CA  \n",
       "4736   Los Angeles    CA  \n",
       "11558       Orange    CA  \n",
       "6444   Los Angeles    CA  "
      ]
     },
     "execution_count": 8,
     "metadata": {},
     "output_type": "execute_result"
    }
   ],
   "source": [
    "train.head()"
   ]
  },
  {
   "cell_type": "code",
   "execution_count": 9,
   "metadata": {},
   "outputs": [
    {
     "name": "stdout",
     "output_type": "stream",
     "text": [
      "<class 'pandas.core.frame.DataFrame'>\n",
      "Int64Index: 11991 entries, 13032 to 6949\n",
      "Data columns (total 7 columns):\n",
      "bedroom_count     11991 non-null float64\n",
      "bathroom_count    11991 non-null float64\n",
      "total_sqft        11991 non-null float64\n",
      "property_value    11991 non-null float64\n",
      "tax_amount        11991 non-null float64\n",
      "county            11991 non-null object\n",
      "state             11991 non-null object\n",
      "dtypes: float64(5), object(2)\n",
      "memory usage: 749.4+ KB\n"
     ]
    }
   ],
   "source": [
    "train.info()"
   ]
  },
  {
   "cell_type": "markdown",
   "metadata": {},
   "source": [
    "## Data Dictionary"
   ]
  },
  {
   "cell_type": "markdown",
   "metadata": {},
   "source": [
    "| Pandas Dataframe | SQL Database                 | Field Description                | Field Purpose                                                                        |\n",
    "|------------------|------------------------------|----------------------------------|--------------------------------------------------------------------------------------|\n",
    "| bedroom_count    | bedroomcnt                   | # of bedrooms in the home        | Feature to be used to predict property value                                         |\n",
    "| bathroom_count   | bathroomcnt                  | # of bathrooms in the home       | Feature to be used to predict property value                                         |\n",
    "| total_sqft       | calculatedfinishedsquarefeet | Total amount of square feet      | Used calculated sqft due to it being the overall sqft as opposed to a rough estimate |\n",
    "| property_value   | taxvaluedollarcnt            | Value of the home                | Goal of the project is to attempt to predict the property value using other fiels    |\n",
    "| tax_amount       | taxamount                    | Tax value of the home            | Used to help identify tax trends by county                                           |\n",
    "| county           | n/a                          | Which county the home resides in | Data pulled from external source; used to get statistics by county                   |\n",
    "| state            | n/a                          | Which state the home resides in  | Data pulled from external source; useful to see which state the houses are in        |"
   ]
  },
  {
   "cell_type": "markdown",
   "metadata": {},
   "source": [
    "# Exploration"
   ]
  },
  {
   "cell_type": "markdown",
   "metadata": {},
   "source": [
    "## Exploration Goals"
   ]
  },
  {
   "cell_type": "markdown",
   "metadata": {},
   "source": [
    "* Create a hypothesis\n",
    "* Calculate the county tax rates and then create graphs to show\n",
    "* Run statistical tests\n",
    "* Create graphs that highlights the effect these three features have on the price of a home\n",
    "* Get an idea of underlying patterns in the data and describe take-aways"
   ]
  },
  {
   "cell_type": "markdown",
   "metadata": {},
   "source": [
    "## Hypothesis"
   ]
  },
  {
   "cell_type": "markdown",
   "metadata": {},
   "source": [
    "$H_0$: The three selected features have no linear correlation with the property value \n",
    "\n",
    "$H_1$: The three selected values do have a linear correlation with property value\n",
    "\n",
    "My hypothesis is that there is a heavy correlation, not only between each feature and the property value but also between each feature. "
   ]
  },
  {
   "cell_type": "markdown",
   "metadata": {},
   "source": [
    "## County Tax Rates"
   ]
  },
  {
   "cell_type": "markdown",
   "metadata": {},
   "source": [
    "### Create a Tax Rate Column"
   ]
  },
  {
   "cell_type": "code",
   "execution_count": 10,
   "metadata": {},
   "outputs": [],
   "source": [
    "df['tax_rate'] = df.tax_amount / df.property_value"
   ]
  },
  {
   "cell_type": "code",
   "execution_count": 11,
   "metadata": {},
   "outputs": [
    {
     "data": {
      "text/html": [
       "<div>\n",
       "<style scoped>\n",
       "    .dataframe tbody tr th:only-of-type {\n",
       "        vertical-align: middle;\n",
       "    }\n",
       "\n",
       "    .dataframe tbody tr th {\n",
       "        vertical-align: top;\n",
       "    }\n",
       "\n",
       "    .dataframe thead th {\n",
       "        text-align: right;\n",
       "    }\n",
       "</style>\n",
       "<table border=\"1\" class=\"dataframe\">\n",
       "  <thead>\n",
       "    <tr style=\"text-align: right;\">\n",
       "      <th></th>\n",
       "      <th>bedroom_count</th>\n",
       "      <th>bathroom_count</th>\n",
       "      <th>total_sqft</th>\n",
       "      <th>property_value</th>\n",
       "      <th>tax_amount</th>\n",
       "      <th>county</th>\n",
       "      <th>state</th>\n",
       "      <th>tax_rate</th>\n",
       "    </tr>\n",
       "  </thead>\n",
       "  <tbody>\n",
       "    <tr>\n",
       "      <th>0</th>\n",
       "      <td>3.0</td>\n",
       "      <td>2.0</td>\n",
       "      <td>1458.0</td>\n",
       "      <td>136104.0</td>\n",
       "      <td>2319.90</td>\n",
       "      <td>Los Angeles</td>\n",
       "      <td>CA</td>\n",
       "      <td>0.017045</td>\n",
       "    </tr>\n",
       "    <tr>\n",
       "      <th>1</th>\n",
       "      <td>2.0</td>\n",
       "      <td>1.0</td>\n",
       "      <td>1421.0</td>\n",
       "      <td>35606.0</td>\n",
       "      <td>543.69</td>\n",
       "      <td>Los Angeles</td>\n",
       "      <td>CA</td>\n",
       "      <td>0.015270</td>\n",
       "    </tr>\n",
       "    <tr>\n",
       "      <th>2</th>\n",
       "      <td>3.0</td>\n",
       "      <td>2.0</td>\n",
       "      <td>1650.0</td>\n",
       "      <td>614000.0</td>\n",
       "      <td>7673.19</td>\n",
       "      <td>Los Angeles</td>\n",
       "      <td>CA</td>\n",
       "      <td>0.012497</td>\n",
       "    </tr>\n",
       "    <tr>\n",
       "      <th>3</th>\n",
       "      <td>2.0</td>\n",
       "      <td>1.0</td>\n",
       "      <td>693.0</td>\n",
       "      <td>274237.0</td>\n",
       "      <td>3267.47</td>\n",
       "      <td>Los Angeles</td>\n",
       "      <td>CA</td>\n",
       "      <td>0.011915</td>\n",
       "    </tr>\n",
       "    <tr>\n",
       "      <th>5</th>\n",
       "      <td>3.0</td>\n",
       "      <td>2.0</td>\n",
       "      <td>1108.0</td>\n",
       "      <td>486866.0</td>\n",
       "      <td>5990.50</td>\n",
       "      <td>Los Angeles</td>\n",
       "      <td>CA</td>\n",
       "      <td>0.012304</td>\n",
       "    </tr>\n",
       "  </tbody>\n",
       "</table>\n",
       "</div>"
      ],
      "text/plain": [
       "   bedroom_count  bathroom_count  total_sqft  property_value  tax_amount  \\\n",
       "0            3.0             2.0      1458.0        136104.0     2319.90   \n",
       "1            2.0             1.0      1421.0         35606.0      543.69   \n",
       "2            3.0             2.0      1650.0        614000.0     7673.19   \n",
       "3            2.0             1.0       693.0        274237.0     3267.47   \n",
       "5            3.0             2.0      1108.0        486866.0     5990.50   \n",
       "\n",
       "        county state  tax_rate  \n",
       "0  Los Angeles    CA  0.017045  \n",
       "1  Los Angeles    CA  0.015270  \n",
       "2  Los Angeles    CA  0.012497  \n",
       "3  Los Angeles    CA  0.011915  \n",
       "5  Los Angeles    CA  0.012304  "
      ]
     },
     "execution_count": 11,
     "metadata": {},
     "output_type": "execute_result"
    }
   ],
   "source": [
    "df.head()"
   ]
  },
  {
   "cell_type": "code",
   "execution_count": 12,
   "metadata": {},
   "outputs": [
    {
     "data": {
      "text/plain": [
       "county\n",
       "Los Angeles    0.014\n",
       "Orange         0.012\n",
       "Ventura        0.012\n",
       "Name: tax_rate, dtype: float64"
      ]
     },
     "execution_count": 12,
     "metadata": {},
     "output_type": "execute_result"
    }
   ],
   "source": [
    "df.groupby('county')['tax_rate'].mean().round(3)"
   ]
  },
  {
   "cell_type": "code",
   "execution_count": 13,
   "metadata": {},
   "outputs": [],
   "source": [
    "tax_los_angeles = df[df.county == 'Los Angeles'][['county', 'tax_rate']]\n",
    "tax_orange = df[df.county == 'Orange'][['county', 'tax_rate']]\n",
    "tax_ventura = df[df.county == 'Ventura'][['county', 'tax_rate']]"
   ]
  },
  {
   "cell_type": "markdown",
   "metadata": {},
   "source": [
    "### Graph the Distribution of Taxes by County"
   ]
  },
  {
   "cell_type": "code",
   "execution_count": 14,
   "metadata": {},
   "outputs": [
    {
     "data": {
      "image/png": "[encoded data removed]",
      "text/plain": [
       "<Figure size 720x432 with 3 Axes>"
      ]
     },
     "metadata": {
      "needs_background": "light"
     },
     "output_type": "display_data"
    }
   ],
   "source": [
    "graph.plot_county_taxes(tax_los_angeles, tax_orange, tax_ventura)"
   ]
  },
  {
   "cell_type": "code",
   "execution_count": 42,
   "metadata": {},
   "outputs": [
    {
     "data": {
      "text/html": [
       "<div>\n",
       "<style scoped>\n",
       "    .dataframe tbody tr th:only-of-type {\n",
       "        vertical-align: middle;\n",
       "    }\n",
       "\n",
       "    .dataframe tbody tr th {\n",
       "        vertical-align: top;\n",
       "    }\n",
       "\n",
       "    .dataframe thead th {\n",
       "        text-align: right;\n",
       "    }\n",
       "</style>\n",
       "<table border=\"1\" class=\"dataframe\">\n",
       "  <thead>\n",
       "    <tr style=\"text-align: right;\">\n",
       "      <th></th>\n",
       "      <th>count</th>\n",
       "      <th>mean</th>\n",
       "      <th>std</th>\n",
       "      <th>min</th>\n",
       "      <th>25%</th>\n",
       "      <th>50%</th>\n",
       "      <th>75%</th>\n",
       "      <th>max</th>\n",
       "    </tr>\n",
       "    <tr>\n",
       "      <th>county</th>\n",
       "      <th></th>\n",
       "      <th></th>\n",
       "      <th></th>\n",
       "      <th></th>\n",
       "      <th></th>\n",
       "      <th></th>\n",
       "      <th></th>\n",
       "      <th></th>\n",
       "    </tr>\n",
       "  </thead>\n",
       "  <tbody>\n",
       "    <tr>\n",
       "      <th>Los Angeles</th>\n",
       "      <td>9604.0</td>\n",
       "      <td>6496.991524</td>\n",
       "      <td>9488.953284</td>\n",
       "      <td>120.84</td>\n",
       "      <td>2456.890</td>\n",
       "      <td>4359.85</td>\n",
       "      <td>7169.650</td>\n",
       "      <td>276797.83</td>\n",
       "    </tr>\n",
       "    <tr>\n",
       "      <th>Orange</th>\n",
       "      <td>4094.0</td>\n",
       "      <td>7078.161749</td>\n",
       "      <td>6733.415270</td>\n",
       "      <td>343.52</td>\n",
       "      <td>3325.435</td>\n",
       "      <td>5598.15</td>\n",
       "      <td>8504.875</td>\n",
       "      <td>115923.26</td>\n",
       "    </tr>\n",
       "    <tr>\n",
       "      <th>Ventura</th>\n",
       "      <td>1291.0</td>\n",
       "      <td>5825.515012</td>\n",
       "      <td>3847.559508</td>\n",
       "      <td>51.26</td>\n",
       "      <td>3378.570</td>\n",
       "      <td>5099.88</td>\n",
       "      <td>7404.570</td>\n",
       "      <td>33157.70</td>\n",
       "    </tr>\n",
       "  </tbody>\n",
       "</table>\n",
       "</div>"
      ],
      "text/plain": [
       "              count         mean          std     min       25%      50%  \\\n",
       "county                                                                     \n",
       "Los Angeles  9604.0  6496.991524  9488.953284  120.84  2456.890  4359.85   \n",
       "Orange       4094.0  7078.161749  6733.415270  343.52  3325.435  5598.15   \n",
       "Ventura      1291.0  5825.515012  3847.559508   51.26  3378.570  5099.88   \n",
       "\n",
       "                  75%        max  \n",
       "county                            \n",
       "Los Angeles  7169.650  276797.83  \n",
       "Orange       8504.875  115923.26  \n",
       "Ventura      7404.570   33157.70  "
      ]
     },
     "execution_count": 42,
     "metadata": {},
     "output_type": "execute_result"
    }
   ],
   "source": [
    "df.groupby('county').tax_amount.describe()"
   ]
  },
  {
   "cell_type": "markdown",
   "metadata": {},
   "source": [
    "## Statistical Testing"
   ]
  },
  {
   "cell_type": "markdown",
   "metadata": {},
   "source": [
    "### T-test"
   ]
  },
  {
   "cell_type": "code",
   "execution_count": 16,
   "metadata": {},
   "outputs": [],
   "source": [
    "alpha = 0.05\n",
    "\n",
    "la = df[df.county == 'Los Angeles'][['property_value']]\n",
    "orange = df[df.county == 'Orange'][['property_value']]\n",
    "ventura = df[df.county == 'Ventura'][['property_value']]"
   ]
  },
  {
   "cell_type": "code",
   "execution_count": 17,
   "metadata": {},
   "outputs": [
    {
     "name": "stdout",
     "output_type": "stream",
     "text": [
      "0.0004266993499083111\n"
     ]
    }
   ],
   "source": [
    "# T-test for LA\n",
    "tstat, p = ttest_1samp(la.property_value, train.property_value.mean())\n",
    "print(p)"
   ]
  },
  {
   "cell_type": "code",
   "execution_count": 18,
   "metadata": {},
   "outputs": [
    {
     "name": "stdout",
     "output_type": "stream",
     "text": [
      "2.825719490265209e-14\n"
     ]
    }
   ],
   "source": [
    "# T-test for Orange\n",
    "tstat, p = ttest_1samp(orange.property_value, train.property_value.mean())\n",
    "print(p)"
   ]
  },
  {
   "cell_type": "code",
   "execution_count": 19,
   "metadata": {},
   "outputs": [
    {
     "name": "stdout",
     "output_type": "stream",
     "text": [
      "1.175821519650124e-05\n"
     ]
    }
   ],
   "source": [
    "# T-test for Ventura\n",
    "tstat, p = ttest_1samp(ventura.property_value, train.property_value.mean())\n",
    "print(p)"
   ]
  },
  {
   "cell_type": "markdown",
   "metadata": {},
   "source": [
    "## Graph the Features"
   ]
  },
  {
   "cell_type": "markdown",
   "metadata": {},
   "source": [
    "> Graphing the features here to get a look at the relationships in the data"
   ]
  },
  {
   "cell_type": "code",
   "execution_count": 20,
   "metadata": {},
   "outputs": [
    {
     "data": {
      "image/png": "[encoded data removed]",
      "text/plain": [
       "<Figure size 1008x432 with 3 Axes>"
      ]
     },
     "metadata": {
      "needs_background": "light"
     },
     "output_type": "display_data"
    }
   ],
   "source": [
    "graph.plot_features(train)"
   ]
  },
  {
   "cell_type": "code",
   "execution_count": 21,
   "metadata": {},
   "outputs": [
    {
     "data": {
      "image/png": "[encoded data removed]",
      "text/plain": [
       "<Figure size 720x720 with 20 Axes>"
      ]
     },
     "metadata": {
      "needs_background": "light"
     },
     "output_type": "display_data"
    },
    {
     "data": {
      "text/plain": [
       "<Figure size 1152x1152 with 0 Axes>"
      ]
     },
     "metadata": {},
     "output_type": "display_data"
    }
   ],
   "source": [
    "graph.graph_pairplot(train)"
   ]
  },
  {
   "cell_type": "code",
   "execution_count": 22,
   "metadata": {},
   "outputs": [
    {
     "data": {
      "image/png": "[encoded data removed]",
      "text/plain": [
       "<Figure size 432x288 with 2 Axes>"
      ]
     },
     "metadata": {
      "needs_background": "light"
     },
     "output_type": "display_data"
    }
   ],
   "source": [
    "graph.graph_corr(train)"
   ]
  },
  {
   "cell_type": "code",
   "execution_count": null,
   "metadata": {},
   "outputs": [],
   "source": []
  },
  {
   "cell_type": "markdown",
   "metadata": {},
   "source": [
    "# Modeling"
   ]
  },
  {
   "cell_type": "markdown",
   "metadata": {},
   "source": [
    "## Create a Dataframe to Hold Actual and Predicted Values"
   ]
  },
  {
   "cell_type": "code",
   "execution_count": 23,
   "metadata": {},
   "outputs": [],
   "source": [
    "predictions = pd.DataFrame(\n",
    "    {'actual': train.property_value})"
   ]
  },
  {
   "cell_type": "markdown",
   "metadata": {},
   "source": [
    "## Create Basic Models (Measures a Single Feature)"
   ]
  },
  {
   "cell_type": "code",
   "execution_count": 24,
   "metadata": {},
   "outputs": [],
   "source": [
    "y = train.property_value"
   ]
  },
  {
   "cell_type": "code",
   "execution_count": 25,
   "metadata": {},
   "outputs": [],
   "source": [
    "# Model Using the Total Square Feet to Predict Tax Amount\n",
    "\n",
    "x1 = train[['total_sqft']]\n",
    "\n",
    "lm_sqft = LinearRegression().fit(x1, y)"
   ]
  },
  {
   "cell_type": "code",
   "execution_count": 26,
   "metadata": {},
   "outputs": [],
   "source": [
    "# Model Using the Number of Bedrooms to Predict Tax Amount\n",
    "\n",
    "x2 = train[['bedroom_count']]\n",
    "\n",
    "lm_bedroom = LinearRegression().fit(x2, y)"
   ]
  },
  {
   "cell_type": "code",
   "execution_count": 27,
   "metadata": {},
   "outputs": [],
   "source": [
    "# Model Using the Number of Bathrooms to Predict Tax Amount\n",
    "\n",
    "x3 = train[['bathroom_count']]\n",
    "\n",
    "lm_bathroom = LinearRegression().fit(x3, y)"
   ]
  },
  {
   "cell_type": "code",
   "execution_count": 28,
   "metadata": {},
   "outputs": [],
   "source": [
    "# Model Using All 3 Features Together\n",
    "\n",
    "x4 = train[['total_sqft', 'bedroom_count', 'bathroom_count']]\n",
    "\n",
    "lm_sqft_bed_bath = LinearRegression().fit(x4, y)"
   ]
  },
  {
   "cell_type": "markdown",
   "metadata": {},
   "source": [
    "## Use the  Models to Create Predictions"
   ]
  },
  {
   "cell_type": "code",
   "execution_count": 29,
   "metadata": {},
   "outputs": [],
   "source": [
    "predictions['baseline'] = train.property_value.mean()\n",
    "predictions['lm_sqft'] = lm_sqft.predict(x1)\n",
    "predictions['lm_bedroom'] = lm_bedroom.predict(x2)\n",
    "predictions['lm_bathroom'] = lm_bathroom.predict(x3)\n",
    "predictions['lm_sqft_bed_bath'] = lm_sqft_bed_bath.predict(x4)"
   ]
  },
  {
   "cell_type": "code",
   "execution_count": 30,
   "metadata": {},
   "outputs": [
    {
     "data": {
      "text/html": [
       "<div>\n",
       "<style scoped>\n",
       "    .dataframe tbody tr th:only-of-type {\n",
       "        vertical-align: middle;\n",
       "    }\n",
       "\n",
       "    .dataframe tbody tr th {\n",
       "        vertical-align: top;\n",
       "    }\n",
       "\n",
       "    .dataframe thead th {\n",
       "        text-align: right;\n",
       "    }\n",
       "</style>\n",
       "<table border=\"1\" class=\"dataframe\">\n",
       "  <thead>\n",
       "    <tr style=\"text-align: right;\">\n",
       "      <th></th>\n",
       "      <th>actual</th>\n",
       "      <th>baseline</th>\n",
       "      <th>lm_sqft</th>\n",
       "      <th>lm_bedroom</th>\n",
       "      <th>lm_bathroom</th>\n",
       "      <th>lm_sqft_bed_bath</th>\n",
       "    </tr>\n",
       "  </thead>\n",
       "  <tbody>\n",
       "    <tr>\n",
       "      <th>13032</th>\n",
       "      <td>371363.0</td>\n",
       "      <td>543975.056876</td>\n",
       "      <td>2.090748e+05</td>\n",
       "      <td>252060.449869</td>\n",
       "      <td>4.162489e+05</td>\n",
       "      <td>3.548299e+05</td>\n",
       "    </tr>\n",
       "    <tr>\n",
       "      <th>1502</th>\n",
       "      <td>705598.0</td>\n",
       "      <td>543975.056876</td>\n",
       "      <td>4.724507e+05</td>\n",
       "      <td>471848.723925</td>\n",
       "      <td>4.162489e+05</td>\n",
       "      <td>4.938469e+05</td>\n",
       "    </tr>\n",
       "    <tr>\n",
       "      <th>4736</th>\n",
       "      <td>185287.0</td>\n",
       "      <td>543975.056876</td>\n",
       "      <td>2.182930e+05</td>\n",
       "      <td>471848.723925</td>\n",
       "      <td>4.162489e+05</td>\n",
       "      <td>2.210103e+05</td>\n",
       "    </tr>\n",
       "    <tr>\n",
       "      <th>11558</th>\n",
       "      <td>653422.0</td>\n",
       "      <td>543975.056876</td>\n",
       "      <td>4.351391e+05</td>\n",
       "      <td>471848.723925</td>\n",
       "      <td>6.038487e+05</td>\n",
       "      <td>4.839165e+05</td>\n",
       "    </tr>\n",
       "    <tr>\n",
       "      <th>6444</th>\n",
       "      <td>1279726.0</td>\n",
       "      <td>543975.056876</td>\n",
       "      <td>2.258140e+06</td>\n",
       "      <td>691636.997982</td>\n",
       "      <td>1.917047e+06</td>\n",
       "      <td>2.508042e+06</td>\n",
       "    </tr>\n",
       "  </tbody>\n",
       "</table>\n",
       "</div>"
      ],
      "text/plain": [
       "          actual       baseline       lm_sqft     lm_bedroom   lm_bathroom  \\\n",
       "13032   371363.0  543975.056876  2.090748e+05  252060.449869  4.162489e+05   \n",
       "1502    705598.0  543975.056876  4.724507e+05  471848.723925  4.162489e+05   \n",
       "4736    185287.0  543975.056876  2.182930e+05  471848.723925  4.162489e+05   \n",
       "11558   653422.0  543975.056876  4.351391e+05  471848.723925  6.038487e+05   \n",
       "6444   1279726.0  543975.056876  2.258140e+06  691636.997982  1.917047e+06   \n",
       "\n",
       "       lm_sqft_bed_bath  \n",
       "13032      3.548299e+05  \n",
       "1502       4.938469e+05  \n",
       "4736       2.210103e+05  \n",
       "11558      4.839165e+05  \n",
       "6444       2.508042e+06  "
      ]
     },
     "execution_count": 30,
     "metadata": {},
     "output_type": "execute_result"
    }
   ],
   "source": [
    "predictions.head()"
   ]
  },
  {
   "cell_type": "markdown",
   "metadata": {},
   "source": [
    "# Evaluation"
   ]
  },
  {
   "cell_type": "markdown",
   "metadata": {},
   "source": [
    "## Comparison Graphing"
   ]
  },
  {
   "cell_type": "code",
   "execution_count": 31,
   "metadata": {},
   "outputs": [
    {
     "data": {
      "image/png": "[encoded data removed]",
      "text/plain": [
       "<Figure size 1152x432 with 4 Axes>"
      ]
     },
     "metadata": {
      "needs_background": "light"
     },
     "output_type": "display_data"
    }
   ],
   "source": [
    "graph.graph_train_models(predictions)"
   ]
  },
  {
   "cell_type": "markdown",
   "metadata": {},
   "source": [
    "## Use RMSE to Compare Models"
   ]
  },
  {
   "cell_type": "code",
   "execution_count": 32,
   "metadata": {},
   "outputs": [],
   "source": [
    "rmse_results = {\n",
    "'baseline_model' : sqrt(mse(predictions.actual, predictions.baseline)),   \n",
    "'sqft_model' : sqrt(mse(predictions.actual, predictions.lm_sqft)),\n",
    "'bedroom_model' : sqrt(mse(predictions.actual, predictions.lm_bedroom)),\n",
    "'bathroom_model' : sqrt(mse(predictions.actual, predictions.lm_bathroom)),\n",
    "'sqft_bedroom_bathroom_model' : sqrt(mse(predictions.actual, predictions.lm_sqft_bed_bath))\n",
    "}"
   ]
  },
  {
   "cell_type": "code",
   "execution_count": 33,
   "metadata": {},
   "outputs": [
    {
     "name": "stdout",
     "output_type": "stream",
     "text": [
      "baseline_model: 727632.7272011177\n",
      "sqft_model: 575449.9930252726\n",
      "bedroom_model: 697667.1918034669\n",
      "bathroom_model: 618105.544202186\n",
      "sqft_bedroom_bathroom_model: 566416.9632290684\n"
     ]
    }
   ],
   "source": [
    "for key in rmse_results:\n",
    "    print(f'{key}: {rmse_results[key]}')"
   ]
  },
  {
   "cell_type": "markdown",
   "metadata": {},
   "source": [
    "## Evaluating the Best Model to Test for Overfitting"
   ]
  },
  {
   "cell_type": "code",
   "execution_count": 34,
   "metadata": {},
   "outputs": [],
   "source": [
    "X_test = test[['total_sqft', 'bedroom_count', 'bathroom_count']]\n",
    "y = test.property_value"
   ]
  },
  {
   "cell_type": "code",
   "execution_count": 35,
   "metadata": {},
   "outputs": [],
   "source": [
    "test_predictions = pd.DataFrame(\n",
    "    {'actual': test.property_value})"
   ]
  },
  {
   "cell_type": "code",
   "execution_count": 36,
   "metadata": {},
   "outputs": [
    {
     "data": {
      "text/html": [
       "<div>\n",
       "<style scoped>\n",
       "    .dataframe tbody tr th:only-of-type {\n",
       "        vertical-align: middle;\n",
       "    }\n",
       "\n",
       "    .dataframe tbody tr th {\n",
       "        vertical-align: top;\n",
       "    }\n",
       "\n",
       "    .dataframe thead th {\n",
       "        text-align: right;\n",
       "    }\n",
       "</style>\n",
       "<table border=\"1\" class=\"dataframe\">\n",
       "  <thead>\n",
       "    <tr style=\"text-align: right;\">\n",
       "      <th></th>\n",
       "      <th>actual</th>\n",
       "    </tr>\n",
       "  </thead>\n",
       "  <tbody>\n",
       "    <tr>\n",
       "      <th>4381</th>\n",
       "      <td>443629.0</td>\n",
       "    </tr>\n",
       "    <tr>\n",
       "      <th>11882</th>\n",
       "      <td>294236.0</td>\n",
       "    </tr>\n",
       "    <tr>\n",
       "      <th>10796</th>\n",
       "      <td>440197.0</td>\n",
       "    </tr>\n",
       "    <tr>\n",
       "      <th>1890</th>\n",
       "      <td>179768.0</td>\n",
       "    </tr>\n",
       "    <tr>\n",
       "      <th>7772</th>\n",
       "      <td>704537.0</td>\n",
       "    </tr>\n",
       "  </tbody>\n",
       "</table>\n",
       "</div>"
      ],
      "text/plain": [
       "         actual\n",
       "4381   443629.0\n",
       "11882  294236.0\n",
       "10796  440197.0\n",
       "1890   179768.0\n",
       "7772   704537.0"
      ]
     },
     "execution_count": 36,
     "metadata": {},
     "output_type": "execute_result"
    }
   ],
   "source": [
    "test_predictions.head()"
   ]
  },
  {
   "cell_type": "code",
   "execution_count": 37,
   "metadata": {},
   "outputs": [],
   "source": [
    "test_predictions['baseline'] = test.property_value.mean()\n",
    "test_predictions['lm_sqft_bed_bath'] = lm_sqft_bed_bath.predict(X_test)"
   ]
  },
  {
   "cell_type": "code",
   "execution_count": 38,
   "metadata": {},
   "outputs": [
    {
     "data": {
      "text/html": [
       "<div>\n",
       "<style scoped>\n",
       "    .dataframe tbody tr th:only-of-type {\n",
       "        vertical-align: middle;\n",
       "    }\n",
       "\n",
       "    .dataframe tbody tr th {\n",
       "        vertical-align: top;\n",
       "    }\n",
       "\n",
       "    .dataframe thead th {\n",
       "        text-align: right;\n",
       "    }\n",
       "</style>\n",
       "<table border=\"1\" class=\"dataframe\">\n",
       "  <thead>\n",
       "    <tr style=\"text-align: right;\">\n",
       "      <th></th>\n",
       "      <th>actual</th>\n",
       "      <th>baseline</th>\n",
       "      <th>lm_sqft_bed_bath</th>\n",
       "    </tr>\n",
       "  </thead>\n",
       "  <tbody>\n",
       "    <tr>\n",
       "      <th>4381</th>\n",
       "      <td>443629.0</td>\n",
       "      <td>532636.370247</td>\n",
       "      <td>279448.675769</td>\n",
       "    </tr>\n",
       "    <tr>\n",
       "      <th>11882</th>\n",
       "      <td>294236.0</td>\n",
       "      <td>532636.370247</td>\n",
       "      <td>584729.827421</td>\n",
       "    </tr>\n",
       "    <tr>\n",
       "      <th>10796</th>\n",
       "      <td>440197.0</td>\n",
       "      <td>532636.370247</td>\n",
       "      <td>516465.496479</td>\n",
       "    </tr>\n",
       "    <tr>\n",
       "      <th>1890</th>\n",
       "      <td>179768.0</td>\n",
       "      <td>532636.370247</td>\n",
       "      <td>437771.693244</td>\n",
       "    </tr>\n",
       "    <tr>\n",
       "      <th>7772</th>\n",
       "      <td>704537.0</td>\n",
       "      <td>532636.370247</td>\n",
       "      <td>585263.671761</td>\n",
       "    </tr>\n",
       "  </tbody>\n",
       "</table>\n",
       "</div>"
      ],
      "text/plain": [
       "         actual       baseline  lm_sqft_bed_bath\n",
       "4381   443629.0  532636.370247     279448.675769\n",
       "11882  294236.0  532636.370247     584729.827421\n",
       "10796  440197.0  532636.370247     516465.496479\n",
       "1890   179768.0  532636.370247     437771.693244\n",
       "7772   704537.0  532636.370247     585263.671761"
      ]
     },
     "execution_count": 38,
     "metadata": {},
     "output_type": "execute_result"
    }
   ],
   "source": [
    "test_predictions.head()"
   ]
  },
  {
   "cell_type": "code",
   "execution_count": 39,
   "metadata": {},
   "outputs": [],
   "source": [
    "rmse_model = sqrt(mse(test_predictions.actual, test_predictions.lm_sqft_bed_bath))\n",
    "rmse_baseline = sqrt(mse(test_predictions.actual, test_predictions.baseline))"
   ]
  },
  {
   "cell_type": "code",
   "execution_count": 40,
   "metadata": {},
   "outputs": [
    {
     "name": "stdout",
     "output_type": "stream",
     "text": [
      "604272.6877648521 743938.074163598\n"
     ]
    }
   ],
   "source": [
    "print(rmse_model, rmse_baseline)"
   ]
  },
  {
   "cell_type": "markdown",
   "metadata": {},
   "source": [
    "## Result"
   ]
  },
  {
   "cell_type": "markdown",
   "metadata": {},
   "source": [
    "__Model using a combination of all three features performed the best__. \n",
    "Additionally, model beats baseline indicating model is significant."
   ]
  },
  {
   "cell_type": "markdown",
   "metadata": {},
   "source": [
    "> The model using all three features (total square feet, # of bedrooms and # of bathrooms) outperformed the other models using individual features. We'll be using the winning model, which I'll put into a seperate model.py."
   ]
  }
 ],
 "metadata": {
  "kernelspec": {
   "display_name": "Python 3",
   "language": "python",
   "name": "python3"
  },
  "language_info": {
   "codemirror_mode": {
    "name": "ipython",
    "version": 3
   },
   "file_extension": ".py",
   "mimetype": "text/x-python",
   "name": "python",
   "nbconvert_exporter": "python",
   "pygments_lexer": "ipython3",
   "version": "3.7.4"
  },
  "toc": {
   "base_numbering": 1,
   "nav_menu": {},
   "number_sections": true,
   "sideBar": true,
   "skip_h1_title": false,
   "title_cell": "Table of Contents",
   "title_sidebar": "Contents",
   "toc_cell": false,
   "toc_position": {
    "height": "calc(100% - 180px)",
    "left": "10px",
    "top": "150px",
    "width": "384px"
   },
   "toc_section_display": true,
   "toc_window_display": false
  }
 },
 "nbformat": 4,
 "nbformat_minor": 4
}
